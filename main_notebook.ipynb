{
 "cells": [
  {
   "cell_type": "markdown",
   "metadata": {},
   "source": [
    "# Read in the data"
   ]
  },
  {
   "cell_type": "code",
   "execution_count": 14,
   "metadata": {
    "collapsed": true
   },
   "outputs": [],
   "source": [
    "import pandas as pd\n",
    "import numpy\n",
    "import re\n",
    "\n",
    "data_files = [\n",
    "    'ap_2010.csv',\n",
    "    'class_size.csv',\n",
    "    'demographics.csv',\n",
    "    'graduation.csv',\n",
    "    'hs_directory.csv',\n",
    "    'sat_results.csv',\n",
    "]\n",
    "data = {}\n",
    "\n",
    "for f in data_files:\n",
    "    key_name = f.replace('.csv', '')\n",
    "    d = pd.read_csv(f'schools/{f}')\n",
    "    data[key_name] = d"
   ]
  },
  {
   "cell_type": "markdown",
   "metadata": {},
   "source": [
    "# Read in the surveys"
   ]
  },
  {
   "cell_type": "code",
   "execution_count": 15,
   "metadata": {
    "collapsed": true
   },
   "outputs": [],
   "source": [
    "all_survey = pd.read_csv('schools/survey_all.txt', delimiter='\\t', encoding='windows-1252')\n",
    "d75_survey = pd.read_csv('schools/survey_d75.txt', delimiter='\\t', encoding='windows-1252')\n",
    "survey = pd.concat([all_survey, d75_survey], axis=0)\n",
    "\n",
    "survey = survey.copy()\n",
    "survey['DBN'] = survey['dbn']\n",
    "\n",
    "survey_fields = [\n",
    "    'DBN',\n",
    "    'rr_s',\n",
    "    'rr_t',\n",
    "    'rr_p',\n",
    "    'N_s',\n",
    "    'N_t',\n",
    "    'N_p',\n",
    "    'saf_p_11',\n",
    "    'com_p_11',\n",
    "    'eng_p_11',\n",
    "    'aca_p_11',\n",
    "    'saf_t_11',\n",
    "    'com_t_11',\n",
    "    'eng_t_11',\n",
    "    'aca_t_11',\n",
    "    'saf_s_11',\n",
    "    'com_s_11',\n",
    "    'eng_s_11',\n",
    "    'aca_s_11',\n",
    "    'saf_tot_11',\n",
    "    'com_tot_11',\n",
    "    'eng_tot_11',\n",
    "    'aca_tot_11',\n",
    "]\n",
    "survey = survey[survey_fields]\n",
    "data['survey'] = survey"
   ]
  },
  {
   "cell_type": "markdown",
   "metadata": {},
   "source": [
    "# Add DBN columns"
   ]
  },
  {
   "cell_type": "code",
   "execution_count": 16,
   "metadata": {
    "collapsed": true
   },
   "outputs": [],
   "source": [
    "data['hs_directory']['DBN'] = data['hs_directory']['dbn']\n",
    "\n",
    "\n",
    "def pad_csd(num):\n",
    "    string_representation = str(num)\n",
    "    if len(string_representation) > 1:\n",
    "        return string_representation\n",
    "    else:\n",
    "        return '0' + string_representation\n",
    "\n",
    "\n",
    "data['class_size']['padded_csd'] = data['class_size']['CSD'].apply(pad_csd)\n",
    "data['class_size']['DBN'] = data['class_size']['padded_csd'] + data['class_size']['SCHOOL CODE']"
   ]
  },
  {
   "cell_type": "markdown",
   "metadata": {},
   "source": [
    "# Convert columns to numeric"
   ]
  },
  {
   "cell_type": "code",
   "execution_count": 17,
   "metadata": {
    "collapsed": true
   },
   "outputs": [
    {
     "name": "stderr",
     "output_type": "stream",
     "text": [
      "<>:11: SyntaxWarning: invalid escape sequence '\\('\n",
      "<>:17: SyntaxWarning: invalid escape sequence '\\('\n",
      "<>:11: SyntaxWarning: invalid escape sequence '\\('\n",
      "<>:17: SyntaxWarning: invalid escape sequence '\\('\n",
      "/var/folders/hn/8p1b_k2127zf_kp_238tglf00000gn/T/ipykernel_21053/1145006712.py:11: SyntaxWarning: invalid escape sequence '\\('\n",
      "  coords = re.findall('\\(.+, .+\\)', loc)\n",
      "/var/folders/hn/8p1b_k2127zf_kp_238tglf00000gn/T/ipykernel_21053/1145006712.py:17: SyntaxWarning: invalid escape sequence '\\('\n",
      "  coords = re.findall('\\(.+, .+\\)', loc)\n"
     ]
    }
   ],
   "source": [
    "cols = ['SAT Math Avg. Score', 'SAT Critical Reading Avg. Score', 'SAT Writing Avg. Score']\n",
    "for c in cols:\n",
    "    data['sat_results'][c] = pd.to_numeric(data['sat_results'][c], errors='coerce')\n",
    "\n",
    "data['sat_results']['sat_score'] = (\n",
    "    data['sat_results'][cols[0]] + data['sat_results'][cols[1]] + data['sat_results'][cols[2]]\n",
    ")\n",
    "\n",
    "\n",
    "def find_lat(loc):\n",
    "    coords = re.findall('\\(.+, .+\\)', loc)\n",
    "    lat = coords[0].split(',')[0].replace('(', '')\n",
    "    return lat\n",
    "\n",
    "\n",
    "def find_lon(loc):\n",
    "    coords = re.findall('\\(.+, .+\\)', loc)\n",
    "    lon = coords[0].split(',')[1].replace(')', '').strip()\n",
    "    return lon\n",
    "\n",
    "\n",
    "data['hs_directory']['lat'] = data['hs_directory']['Location 1'].apply(find_lat)\n",
    "data['hs_directory']['lon'] = data['hs_directory']['Location 1'].apply(find_lon)\n",
    "\n",
    "data['hs_directory']['lat'] = pd.to_numeric(data['hs_directory']['lat'], errors='coerce')\n",
    "data['hs_directory']['lon'] = pd.to_numeric(data['hs_directory']['lon'], errors='coerce')"
   ]
  },
  {
   "cell_type": "markdown",
   "metadata": {},
   "source": [
    "# Condense datasets"
   ]
  },
  {
   "cell_type": "code",
   "execution_count": 18,
   "metadata": {
    "collapsed": true
   },
   "outputs": [],
   "source": [
    "class_size = data['class_size']\n",
    "class_size = class_size[class_size['GRADE '] == '09-12']\n",
    "class_size = class_size[class_size['PROGRAM TYPE'] == 'GEN ED']\n",
    "\n",
    "class_size = class_size.groupby('DBN').agg('mean', numeric_only=True)\n",
    "class_size.reset_index(inplace=True)\n",
    "data['class_size'] = class_size\n",
    "\n",
    "data['demographics'] = data['demographics'][data['demographics']['schoolyear'] == 20112012]\n",
    "\n",
    "data['graduation'] = data['graduation'][data['graduation']['Cohort'] == '2006']\n",
    "data['graduation'] = data['graduation'][data['graduation']['Demographic'] == 'Total Cohort']"
   ]
  },
  {
   "cell_type": "markdown",
   "metadata": {},
   "source": [
    "# Convert AP scores to numeric"
   ]
  },
  {
   "cell_type": "code",
   "execution_count": 19,
   "metadata": {
    "collapsed": true
   },
   "outputs": [],
   "source": [
    "cols = ['AP Test Takers ', 'Total Exams Taken', 'Number of Exams with scores 3 4 or 5']\n",
    "\n",
    "for col in cols:\n",
    "    data['ap_2010'][col] = pd.to_numeric(data['ap_2010'][col], errors='coerce')"
   ]
  },
  {
   "cell_type": "markdown",
   "metadata": {},
   "source": [
    "# Combine the datasets"
   ]
  },
  {
   "cell_type": "code",
   "execution_count": 20,
   "metadata": {
    "collapsed": true
   },
   "outputs": [],
   "source": [
    "combined = data['sat_results']\n",
    "\n",
    "combined = combined.merge(data['ap_2010'], on='DBN', how='left')\n",
    "combined = combined.merge(data['graduation'], on='DBN', how='left')\n",
    "\n",
    "to_merge = ['class_size', 'demographics', 'survey', 'hs_directory']\n",
    "\n",
    "for m in to_merge:\n",
    "    combined = combined.merge(data[m], on='DBN', how='inner')\n",
    "\n",
    "combined = combined.fillna(combined.mean(numeric_only=True))\n",
    "combined = combined.infer_objects(copy=False).fillna(0)"
   ]
  },
  {
   "cell_type": "markdown",
   "metadata": {},
   "source": [
    "# Add a school district column for mapping"
   ]
  },
  {
   "cell_type": "code",
   "execution_count": 21,
   "metadata": {
    "collapsed": true
   },
   "outputs": [],
   "source": [
    "def get_first_two_chars(dbn):\n",
    "    return dbn[0:2]\n",
    "\n",
    "\n",
    "combined = combined.copy()\n",
    "combined['school_dist'] = combined['DBN'].apply(get_first_two_chars)"
   ]
  },
  {
   "cell_type": "markdown",
   "metadata": {},
   "source": [
    "# Find correlations"
   ]
  },
  {
   "cell_type": "code",
   "execution_count": 22,
   "metadata": {
    "collapsed": false
   },
   "outputs": [
    {
     "name": "stdout",
     "output_type": "stream",
     "text": [
      "SAT Critical Reading Avg. Score    0.986820\n",
      "SAT Math Avg. Score                0.972643\n",
      "SAT Writing Avg. Score             0.987771\n",
      "sat_score                          1.000000\n",
      "AP Test Takers                     0.523140\n",
      "                                     ...   \n",
      "priority08                              NaN\n",
      "priority09                              NaN\n",
      "priority10                              NaN\n",
      "lat                               -0.121029\n",
      "lon                               -0.132222\n",
      "Name: sat_score, Length: 67, dtype: float64\n"
     ]
    }
   ],
   "source": [
    "correlations = combined.corr(numeric_only=True)\n",
    "correlations = correlations['sat_score']\n",
    "print(correlations)"
   ]
  },
  {
   "cell_type": "markdown",
   "metadata": {},
   "source": [
    "# Plotting survey correlations"
   ]
  },
  {
   "cell_type": "code",
   "execution_count": 23,
   "metadata": {},
   "outputs": [],
   "source": [
    "# Remove DBN since it's a unique identifier, not a useful numerical value for correlation.\n",
    "survey_fields.remove('DBN')"
   ]
  },
  {
   "cell_type": "markdown",
   "metadata": {},
   "source": [
    "# Survey Fields vs SAT Score"
   ]
  },
  {
   "cell_type": "code",
   "execution_count": 24,
   "metadata": {},
   "outputs": [
    {
     "name": "stdout",
     "output_type": "stream",
     "text": [
      "{'rr_s': np.float64(0.23219912927511957), 'rr_t': np.float64(-0.023386291173466373), 'rr_p': np.float64(0.04792451883198435), 'N_s': np.float64(0.4234629475091972), 'N_t': np.float64(0.2914630275178503), 'N_p': np.float64(0.4215300253580893), 'saf_p_11': np.float64(0.12291283627180785), 'com_p_11': np.float64(-0.11507348242782603), 'eng_p_11': np.float64(0.020254107222305903), 'aca_p_11': np.float64(0.035154618008655755), 'saf_t_11': np.float64(0.3138103333520103), 'com_t_11': np.float64(0.08241941890129452), 'eng_t_11': np.float64(0.03690647858376121), 'aca_t_11': np.float64(0.1323476677825646), 'saf_s_11': np.float64(0.33763874436088137), 'com_s_11': np.float64(0.18737020184780123), 'eng_s_11': np.float64(0.2138216081347262), 'aca_s_11': np.float64(0.33943547354225356), 'saf_tot_11': np.float64(0.3187534502170987), 'com_tot_11': np.float64(0.07731020128970857), 'eng_tot_11': np.float64(0.10010182962480557), 'aca_tot_11': np.float64(0.1909659779409331)}\n"
     ]
    }
   ],
   "source": [
    "sat_corr = {}\n",
    "\n",
    "for s in survey_fields:\n",
    "    sat_corr[s] = combined['sat_score'].corr(combined[s])\n",
    "\n",
    "print(sat_corr)"
   ]
  },
  {
   "cell_type": "code",
   "execution_count": 25,
   "metadata": {},
   "outputs": [],
   "source": [
    "sat_corr_df = pd.DataFrame.from_dict(sat_corr, orient='index')"
   ]
  },
  {
   "cell_type": "code",
   "execution_count": 26,
   "metadata": {},
   "outputs": [
    {
     "data": {
      "image/png": "[encoded data removed]",
      "text/plain": [
       "<Figure size 640x480 with 1 Axes>"
      ]
     },
     "metadata": {},
     "output_type": "display_data"
    }
   ],
   "source": [
    "import matplotlib.pyplot as plt\n",
    "import seaborn as sns\n",
    "\n",
    "sat_corr_df.plot.bar(legend=False)\n",
    "plt.title('SAT Correlations')\n",
    "plt.tick_params(left=False, bottom=False)\n",
    "\n",
    "plt.tight_layout()\n",
    "sns.despine()\n",
    "\n",
    "plt.savefig('visualizations/sat_corr.png')\n",
    "plt.show()"
   ]
  },
  {
   "cell_type": "markdown",
   "metadata": {},
   "source": [
    "## Interesting Correlations:\n",
    "- `N_s`: Number of student respondents (~0.4)\n",
    "- `N_t`: Number of teacher respondents (~0.3)\n",
    "- `N_p`: Number of parent respondents (~0.4)\n",
    "- `saf_t_11`: Safety and Respect score based on teacher responses (~0.3)\n",
    "- `saf_s_11`: Safety and Respect score based on student responses (~0.3)\n",
    "- `aca_s_11`: Academic expectations score based on student responses (~0.3)\n",
    "- `saf_tot_11`: Safety and Respect total score (~0.3)"
   ]
  },
  {
   "cell_type": "markdown",
   "metadata": {},
   "source": [
    "# Investigate Safety Scores"
   ]
  },
  {
   "cell_type": "code",
   "execution_count": 29,
   "metadata": {},
   "outputs": [
    {
     "data": {
      "image/png": "[encoded data removed]",
      "text/plain": [
       "<Figure size 640x480 with 1 Axes>"
      ]
     },
     "metadata": {},
     "output_type": "display_data"
    }
   ],
   "source": [
    "combined.plot.scatter(x='saf_s_11', y='sat_score')\n",
    "\n",
    "plt.title('Safety Score vs SAT Score')\n",
    "\n",
    "plt.tight_layout()\n",
    "sns.despine()\n",
    "\n",
    "plt.savefig('visualizations/safety_vs_sat.png')\n",
    "plt.show()"
   ]
  },
  {
   "cell_type": "markdown",
   "metadata": {},
   "source": [
    "## Conclusions Drawn:\n",
    "- There is a slightly positive correlation in which safer schools achieve higher SAT scores"
   ]
  }
 ],
 "metadata": {
  "kernelspec": {
   "display_name": "myenv",
   "language": "python",
   "name": "python3"
  },
  "language_info": {
   "codemirror_mode": {
    "name": "ipython",
    "version": 3
   },
   "file_extension": ".py",
   "mimetype": "text/x-python",
   "name": "python",
   "nbconvert_exporter": "python",
   "pygments_lexer": "ipython3",
   "version": "3.12.7"
  }
 },
 "nbformat": 4,
 "nbformat_minor": 2
}
